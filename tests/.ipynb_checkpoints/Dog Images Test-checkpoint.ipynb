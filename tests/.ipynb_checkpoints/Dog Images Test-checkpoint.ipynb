{
 "cells": [
  {
   "cell_type": "markdown",
   "metadata": {
    "colab_type": "text",
    "id": "9tcX58X3jOsB"
   },
   "source": [
    "# imagegenrnn\n",
    "## Test 1: Dog Image Generation\n",
    "\n",
    "By Anthony Krivonos"
   ]
  },
  {
   "cell_type": "code",
   "execution_count": 1,
   "metadata": {},
   "outputs": [],
   "source": [
    "IS_COLAB = False"
   ]
  },
  {
   "cell_type": "code",
   "execution_count": 2,
   "metadata": {
    "colab": {
     "base_uri": "https://localhost:8080/",
     "height": 73
    },
    "colab_type": "code",
    "id": "Yx1bJuRHjZPF",
    "outputId": "7826eae3-0029-4992-8ca7-8c3a752b79bb"
   },
   "outputs": [],
   "source": [
    "if IS_COLAB:\n",
    "    from google.colab import drive\n",
    "    drive.mount('/content/drive')\n",
    "\n",
    "    % cd '/content/drive/My Drive/Spring 2020/Machine Learning/AK Projects/imagegengan/imagegengan'\n",
    "    !git config --global user.email \"user@email.com\"\n",
    "    !git config --global user.name \"First Last\"\n",
    "    !git stash && git pull"
   ]
  },
  {
   "cell_type": "code",
   "execution_count": 3,
   "metadata": {
    "colab": {
     "base_uri": "https://localhost:8080/",
     "height": 35
    },
    "colab_type": "code",
    "id": "oybN2s2OjOsD",
    "outputId": "acbe8d3a-0e7d-4f5e-eacb-9bdbe1f40f33"
   },
   "outputs": [
    {
     "name": "stderr",
     "output_type": "stream",
     "text": [
      "Using TensorFlow backend.\n"
     ]
    }
   ],
   "source": [
    "import sys, os\n",
    "import numpy as np\n",
    "from random import choice\n",
    "\n",
    "if not IS_COLAB:\n",
    "    module_path = os.path.abspath(os.path.join('..'))\n",
    "    if module_path not in sys.path:\n",
    "        sys.path.append(module_path)\n",
    "\n",
    "from src.image_gen import imagegengan\n",
    "from src.util import prepare_images"
   ]
  },
  {
   "cell_type": "code",
   "execution_count": 4,
   "metadata": {
    "colab": {},
    "colab_type": "code",
    "id": "-GeWc0MQjOsV"
   },
   "outputs": [],
   "source": [
    "import matplotlib.pyplot as plt\n",
    "%matplotlib inline\n",
    "def visualize(image):\n",
    "    plt.imshow(image)"
   ]
  },
  {
   "cell_type": "markdown",
   "metadata": {
    "colab_type": "text",
    "id": "lmsLfrUIjOsJ"
   },
   "source": [
    "### Store the Dog Image Dataset Metadata\n",
    "\n",
    "We'll point to a directory containing a bunch of images of dogs with different image sizes and file extensions.\n",
    "\n",
    "Data courtesy of Kaggle's [Generative Dog Images](https://www.kaggle.com/c/generative-dog-images) competition."
   ]
  },
  {
   "cell_type": "code",
   "execution_count": 5,
   "metadata": {
    "colab": {},
    "colab_type": "code",
    "id": "o8ng9QbsjOsJ"
   },
   "outputs": [],
   "source": [
    "image_dir = \"dog_images\""
   ]
  },
  {
   "cell_type": "markdown",
   "metadata": {
    "colab_type": "text",
    "id": "MPQmrawd3zpF"
   },
   "source": [
    "### Prepare Training Images"
   ]
  },
  {
   "cell_type": "code",
   "execution_count": 6,
   "metadata": {
    "colab": {
     "base_uri": "https://localhost:8080/",
     "height": 71
    },
    "colab_type": "code",
    "id": "SWzw1tgU32Gl",
    "outputId": "09809180-a063-4eec-daa1-e533b6f7d89a"
   },
   "outputs": [],
   "source": [
    "img_shape = (64, 64, 3)\n",
    "# train_images = prepare_images(img_shape, from_dir=image_dir, save_to_npy='dog_images', limit=None, shuffle=False)"
   ]
  },
  {
   "cell_type": "markdown",
   "metadata": {
    "colab_type": "text",
    "id": "Jif_smNRjOsN"
   },
   "source": [
    "### Initialize the Image Generator"
   ]
  },
  {
   "cell_type": "code",
   "execution_count": 7,
   "metadata": {
    "colab": {},
    "colab_type": "code",
    "id": "_4AG5H1sjOsO"
   },
   "outputs": [],
   "source": [
    "learning_rate = 0.00015\n",
    "image_generator = imagegengan(img_shape=img_shape, lr=learning_rate)"
   ]
  },
  {
   "cell_type": "code",
   "execution_count": null,
   "metadata": {
    "colab": {
     "base_uri": "https://localhost:8080/",
     "height": 305
    },
    "colab_type": "code",
    "id": "WeZOqaHtjOsR",
    "outputId": "6a981623-4247-471c-952f-0958c09d7bbe",
    "scrolled": true
   },
   "outputs": [
    {
     "name": "stdout",
     "output_type": "stream",
     "text": [
      "Augmenting the image dataset...\n",
      "Training the image generator...\n",
      "Epoch 1/10:\n",
      "(gan_loss: 0.7672806382, disc_loss: 3.6650435925) [>...........................]                              \r"
     ]
    }
   ],
   "source": [
    "image_generator.train(from_prepared=\"dog_images\", epochs=10, limit=8, batch_size=32)"
   ]
  },
  {
   "cell_type": "code",
   "execution_count": null,
   "metadata": {
    "colab": {
     "base_uri": "https://localhost:8080/",
     "height": 190
    },
    "colab_type": "code",
    "id": "T2P-7cIQjOsY",
    "outputId": "d15caaa3-9b08-4208-d1a9-14906347053a"
   },
   "outputs": [],
   "source": [
    "generated_image = image_generator.generate()\n",
    "visualize(generated_image)"
   ]
  }
 ],
 "metadata": {
  "accelerator": "GPU",
  "colab": {
   "collapsed_sections": [],
   "name": "Dog Images Test.ipynb",
   "provenance": [],
   "toc_visible": true
  },
  "kernelspec": {
   "display_name": "Python 3",
   "language": "python",
   "name": "python3"
  },
  "language_info": {
   "codemirror_mode": {
    "name": "ipython",
    "version": 3
   },
   "file_extension": ".py",
   "mimetype": "text/x-python",
   "name": "python",
   "nbconvert_exporter": "python",
   "pygments_lexer": "ipython3",
   "version": "3.7.1"
  }
 },
 "nbformat": 4,
 "nbformat_minor": 1
}
